{
 "cells": [
  {
   "cell_type": "code",
   "execution_count": 47,
   "metadata": {},
   "outputs": [
    {
     "name": "stdout",
     "output_type": "stream",
     "text": [
      "\u001b[44m\u001b[4m                             META DOS FUNCIONÁRIOS: R$5.500,00                                \u001b[0m\n",
      "========================================================================================\n",
      "|  Funcionário  |     Vendido     |    Bonificação    |  % Meta   |      Situação      |\n",
      "========================================================================================\n",
      "|     Lucas     |R$   12.000,00   |R$     840,00      |   118%    |\u001b[44m    Meta Dobrada    \u001b[0m|\n",
      "|     Pedro     |R$   7.000,00    |R$     210,00      |    27%    |\u001b[42m   Meta Alcançada   \u001b[0m|\n",
      "|   Fulaninho   |R$   3.500,00    |R$      0,00       |   -36%    |\u001b[41m   Não Alcançada    \u001b[0m|\n",
      "|     Lais      |R$   8.000,00    |R$     240,00      |    45%    |\u001b[42m   Meta Alcançada   \u001b[0m|\n",
      "|    Beatriz    |R$   9.500,00    |R$     285,00      |    73%    |\u001b[42m   Meta Alcançada   \u001b[0m|\n",
      "|    Matheus    |R$   8.500,00    |R$     255,00      |    55%    |\u001b[42m   Meta Alcançada   \u001b[0m|\n",
      "|    Fulano     |R$   4.999,00    |R$      0,00       |    -9%    |\u001b[41m   Não Alcançada    \u001b[0m|\n",
      "|   Fulanete    |R$   3.000,00    |R$      0,00       |   -45%    |\u001b[41m   Não Alcançada    \u001b[0m|\n",
      "|  Alessandra   |R$   13.000,00   |R$     910,00      |   136%    |\u001b[44m    Meta Dobrada    \u001b[0m|\n",
      "========================================================================================\n"
     ]
    }
   ],
   "source": [
    "def verificar_bonificacao(valor):\n",
    "    if valor >= meta * 2:\n",
    "        bonus = 0.07\n",
    "        valor_final = bonus * valor \n",
    "        valor_final = '{:^17_.2f}'.format(valor_final).replace(\".\", \",\").replace(\"_\", \".\")\n",
    "        return valor_final\n",
    "    \n",
    "    elif valor >= meta:\n",
    "        bonus = 0.03\n",
    "        valor_final = bonus * valor \n",
    "        valor_final = '{:^17_.2f}'.format(valor_final).replace(\".\", \",\").replace(\"_\", \".\")\n",
    "        return valor_final\n",
    "    \n",
    "    elif valor < meta:\n",
    "        valor_final = 0       \n",
    "        valor_final = '{:^17_.2f}'.format(valor_final).replace(\".\", \",\").replace(\"_\", \".\")\n",
    "        return valor_final \n",
    "\n",
    "\n",
    "\n",
    "def validar_argumento(valor, meta):\n",
    "    \n",
    "    if valor >= meta * 2:\n",
    "       formatado = '\\033[44m{:^20}\\033[0m'.format('Meta Dobrada')\n",
    "       return formatado\n",
    "    \n",
    "    elif valor >= meta:\n",
    "        formatado = '\\033[42m{:^20}\\033[0m'.format('Meta Alcançada')\n",
    "        return formatado\n",
    "\n",
    "    else:\n",
    "        formatado = '\\033[41m{:^20}\\033[0m'.format('Não Alcançada ')\n",
    "        return formatado \n",
    "\n",
    "\n",
    "\n",
    "def formatar_moeda(arg):\n",
    "    arg = '{:^15_.2f}'.format(valor)\n",
    "    arg = arg.replace(\".\", \",\").replace(\"_\", \".\")\n",
    "    return arg\n",
    "\n",
    "\n",
    "\n",
    "funcionarios = ['lucas', 'pedro', 'fulaninho', 'lais', 'beatriz', 'matheus', 'fulano', 'fulanete', 'Alessandra']\n",
    "vendas = [12000, 7000, 3500, 8000, 9500, 8500, 4999, 3000, 13000]\n",
    "\n",
    "meta = 5500\n",
    "\n",
    "dicio = dict(zip(funcionarios, vendas))\n",
    "\n",
    "\n",
    "print('\\033[44m\\033[4m{:>50}: R${:<40_.2f}\\033[0m'.format('META DOS FUNCIONÁRIOS', meta).replace(\".\", \",\").replace(\"_\", \".\"))\n",
    "print('=' * 88)\n",
    "print('|{:^15}|{:^17}|{:^19}|{:^11}|{:^20}|'.format('Funcionário', 'Vendido', 'Bonificação', '% Meta', 'Situação'))\n",
    "print('=' * 88)\n",
    "\n",
    "\n",
    "for each in dicio.items():\n",
    "\n",
    "    funcionario, valor = each\n",
    "    percent = valor / meta - 1\n",
    "\n",
    "    print(f'|{funcionario.title():^15}|R${formatar_moeda(valor)}|R${verificar_bonificacao(valor)}|{percent:^11.0%}|{validar_argumento(valor, meta)}|') \n",
    "    \n",
    "print('=' * 88)\n"
   ]
  }
 ],
 "metadata": {
  "interpreter": {
   "hash": "665796ea3363072d3a6057ac2fdbe3c4fcb0d17a4b92295d9707f78e9c46c0af"
  },
  "kernelspec": {
   "display_name": "Python 3.9.7 ('base')",
   "language": "python",
   "name": "python3"
  },
  "language_info": {
   "codemirror_mode": {
    "name": "ipython",
    "version": 3
   },
   "file_extension": ".py",
   "mimetype": "text/x-python",
   "name": "python",
   "nbconvert_exporter": "python",
   "pygments_lexer": "ipython3",
   "version": "3.9.7"
  },
  "orig_nbformat": 4
 },
 "nbformat": 4,
 "nbformat_minor": 2
}
